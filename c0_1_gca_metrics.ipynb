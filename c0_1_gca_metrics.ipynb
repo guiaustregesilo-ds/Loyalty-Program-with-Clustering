{
  "nbformat": 4,
  "nbformat_minor": 0,
  "metadata": {
    "colab": {
      "provenance": [],
      "collapsed_sections": [
        "oIcTmWayXz8Q",
        "-w3UHBWnX3pM",
        "-uZCw9r1X5zW",
        "dBpglgOXR3il",
        "GKm8gt0Dzt0R",
        "_h0bxbR30VyH",
        "J0SLjCqjyM8C",
        "i32uxXlY3gfI",
        "vy9u_daD3xqg",
        "GixGPSyb312f",
        "Gms_2G5AAIG6",
        "g8w2UN6sNh_x",
        "l09KJxsMNvEw"
      ],
      "mount_file_id": "1Kqr-lkoDTcsSJEFCzg1S5Bt6oUIHi_Qx",
      "authorship_tag": "ABX9TyPAYt7StsMEXetABAbllvkK",
      "include_colab_link": true
    },
    "kernelspec": {
      "name": "python3",
      "display_name": "Python 3"
    },
    "language_info": {
      "name": "python"
    }
  },
  "cells": [
    {
      "cell_type": "markdown",
      "metadata": {
        "id": "view-in-github",
        "colab_type": "text"
      },
      "source": [
        "<a href=\"https://colab.research.google.com/github/guiaustregesilo-ds/Loyalty-Program-with-Clustering/blob/main/c0_1_gca_metrics.ipynb\" target=\"_parent\"><img src=\"https://colab.research.google.com/assets/colab-badge.svg\" alt=\"Open In Colab\"/></a>"
      ]
    },
    {
      "cell_type": "markdown",
      "source": [
        "# **High Value Customer Identification**"
      ],
      "metadata": {
        "id": "nBU34NuyXcV2"
      }
    },
    {
      "cell_type": "markdown",
      "source": [
        "## 0.0 Planning"
      ],
      "metadata": {
        "id": "rJEjJ9MeXsIN"
      }
    },
    {
      "cell_type": "markdown",
      "source": [
        "### Input"
      ],
      "metadata": {
        "id": "oIcTmWayXz8Q"
      }
    },
    {
      "cell_type": "markdown",
      "source": [
        "**1 - Business Problem**:\n",
        "  - Selecting the most valuable customers to be included in a loyalty program.\n",
        "\n",
        "**2 - Dataset**\n",
        "  - Online e-commerce sales over a one-year period."
      ],
      "metadata": {
        "id": "yx82rMGVYAWk"
      }
    },
    {
      "cell_type": "markdown",
      "source": [
        "### Output"
      ],
      "metadata": {
        "id": "-w3UHBWnX3pM"
      }
    },
    {
      "cell_type": "markdown",
      "source": [
        "**1 -  Identifying the participants for the \"Royalty\" program.\"**\n",
        "  - Lista: client_id | id_royalty\n",
        "            1234     | yes/R\n",
        "            4567     | no/R\n",
        "\n",
        "**2 - Business Questions Report: Royalty Program**\n",
        "\n",
        "    - 1. Who are the people eligible to participate in the program?\"\n",
        "\n",
        "    - 2.  How many customers will be in the group?\n",
        "\n",
        "    - 3. What are the main characteristics of these customers?\n",
        "\n",
        "    - 4. What is the revenue contribution of the selected customers?\n",
        "\n",
        "    - 5. What is the expected revenue for this group in the coming months?\n",
        "\n",
        "    - 6. & 7. What are the conditions for a person to be eligible (or not)?\n",
        "\n",
        "    - 8. How can we prove the program is better than the rest of the base?\n",
        "\n",
        "    - 9. What actions can the marketing team take to increase revenue?"
      ],
      "metadata": {
        "id": "DizYb1ZaYwf6"
      }
    },
    {
      "cell_type": "markdown",
      "source": [
        "### Tasks"
      ],
      "metadata": {
        "id": "-uZCw9r1X5zW"
      }
    },
    {
      "cell_type": "markdown",
      "source": [
        "- **Who are the people eligible to participate in the \"Royalty\" program?**\n",
        "\n",
        "    - What does it mean to be eligible? What are \"high-value\" customers?\n",
        "\n",
        "    - Revenue ?\n",
        "        - High Average Order Value (AOV);\n",
        "        - High Lifetime Value (LTV);\n",
        "        - Low Recency;\n",
        "        - High Basket Size;\n",
        "        - Low Churn probability;\n",
        "        - High predicted LTV;\n",
        "        - High purchase propensity.\n",
        "\n",
        "    - Cost ?\n",
        "        - Low return rate;\n",
        "\n",
        "    - Shopping experience ?\n",
        "        - High average rating.\n",
        "\n",
        "- **2. How many customers will be part of the group?**\n",
        "    - Total number of customers;\n",
        "    - Percentage of the filtered group.\n",
        "\n",
        "- **3. What are the main characteristics of these customers?**\n",
        "    - List customer characteristics:\n",
        "        - Age;\n",
        "        - Location;\n",
        "    - Purchasing behavior characteristics:\n",
        "        - Clustering attributes.\n",
        "\n",
        "- **4. What is the revenue contribution percentage of the selected customers for \"Royalty\"**\n",
        "    -  Total annual revenue;\n",
        "    -  Total revenue of the \"Loyalty\" group.\n",
        "\n",
        "- **5. What is the expected revenue for this group in the coming months?**\n",
        "    -  LTV of the \"Loyalty\" group;\n",
        "    -  Cohort analysis.\n",
        "\n",
        "- **6. What are the conditions for a person to be eligible for \"Royalty\"**\n",
        "    -  Define the frequency {1 month, 3 months};\n",
        "    -  The person needs to be similar to those in the loyalty group.\n",
        "\n",
        "- **7. What are the conditions for a person not to be eligible for \"Royalty\":**\n",
        "    -  Define the frequency {1 month, 3 months};\n",
        "    -  The person needs to be dissimilar from those in the loyalty group.\n",
        "\n",
        "- **8. How can we prove the \"Royalty\" program is more effective than the rest of the customer base?**\n",
        "    -  A/B Testing;\n",
        "    -  Bayesian A/B Testing;\n",
        "    -  Hypothesis Testing.\n",
        "\n",
        "- **9. Quais ações o time de marketing pode realizar para aumentar o faturamento?**\n",
        "    -  Discount;\n",
        "    -  Exclusive access to products;\n",
        "    -  Free shipping or a shipping discount;\n",
        "    -  Company visit."
      ],
      "metadata": {
        "id": "MjGcZpcMb9eS"
      }
    },
    {
      "cell_type": "markdown",
      "source": [
        "## 1.0 Benchmark Solutions"
      ],
      "metadata": {
        "id": "xjU-5Ipqlsrq"
      }
    },
    {
      "cell_type": "markdown",
      "source": [
        "### 1.1 Desk Research\n"
      ],
      "metadata": {
        "id": "9V7OqUCMmkEZ"
      }
    },
    {
      "cell_type": "markdown",
      "source": [
        "# 0.0 IMPORTS"
      ],
      "metadata": {
        "id": "dBpglgOXR3il"
      }
    },
    {
      "cell_type": "code",
      "execution_count": 70,
      "metadata": {
        "id": "mcCx9wwyNFQA",
        "colab": {
          "base_uri": "https://localhost:8080/"
        },
        "outputId": "cf78d19c-5d60-41c2-a47e-973956e16868"
      },
      "outputs": [
        {
          "output_type": "stream",
          "name": "stdout",
          "text": [
            "Drive already mounted at /content/drive; to attempt to forcibly remount, call drive.mount(\"/content/drive\", force_remount=True).\n"
          ]
        }
      ],
      "source": [
        "import pandas  as pd\n",
        "import numpy   as np\n",
        "\n",
        "import seaborn as sns\n",
        "\n",
        "from google.colab import drive\n",
        "drive.mount('/content/drive')\n",
        "\n",
        "from matplotlib import pyplot as plt\n",
        "from IPython.display import Image\n",
        "from IPython.core.display import HTML\n",
        "\n",
        "from sklearn.cluster import KMeans\n",
        "\n",
        "from yellowbrick.cluster import KElbowVisualizer"
      ]
    },
    {
      "cell_type": "markdown",
      "source": [
        "## 0.1 HELPER FUNCTIONS"
      ],
      "metadata": {
        "id": "GKm8gt0Dzt0R"
      }
    },
    {
      "cell_type": "code",
      "source": [
        "def jupyter_settings():\n",
        "    %matplotlib inline\n",
        "    %pylab inline\n",
        "\n",
        "    plt.style.use('ggplot')\n",
        "    plt.rcParams['figure.figsize'] = [29, 9]\n",
        "    plt.rcParams['font.size'] = 24\n",
        "\n",
        "    display(HTML('<style>.container { width:100% !important; }</style>'))\n",
        "    pd.options.display.max_columns = None\n",
        "    pd.options.display.max_rows = None\n",
        "    pd.set_option('display.expand_frame_repr', False)\n",
        "\n",
        "    sns.set()"
      ],
      "metadata": {
        "id": "Pw2Sa85Fz1BE"
      },
      "execution_count": 30,
      "outputs": []
    },
    {
      "cell_type": "markdown",
      "source": [
        "## 0.2 LOAD DATASET"
      ],
      "metadata": {
        "id": "_h0bxbR30VyH"
      }
    },
    {
      "cell_type": "code",
      "source": [
        "# load data\n",
        "df_raw = pd.read_csv('/content/drive/MyDrive/Colab Notebooks/Programa de Fidelidade com Clusterização/data/Ecommerce.csv', encoding='ISO-8859-1')\n",
        "\n",
        "# drop extra column\n",
        "df_raw = df_raw.drop(columns='Unnamed: 8', axis=1)"
      ],
      "metadata": {
        "id": "Chm7eufl0b1-"
      },
      "execution_count": 31,
      "outputs": []
    },
    {
      "cell_type": "markdown",
      "source": [
        "# 1.0 DATA DESCRIPTION"
      ],
      "metadata": {
        "id": "J0SLjCqjyM8C"
      }
    },
    {
      "cell_type": "code",
      "source": [
        "df1 = df_raw.copy()"
      ],
      "metadata": {
        "id": "bppuQbpa3UYf"
      },
      "execution_count": 32,
      "outputs": []
    },
    {
      "cell_type": "markdown",
      "source": [
        "## 1.1 RENAME COLUMNS"
      ],
      "metadata": {
        "id": "58NbxjNt3XeV"
      }
    },
    {
      "cell_type": "code",
      "source": [
        "cols_new = ['invoice_no', 'stock_code', 'description', 'quantity', 'invoice_date', 'unit_price', 'customer_id', 'country']\n",
        "df1.columns = cols_new"
      ],
      "metadata": {
        "id": "4S6H46P_6W2x"
      },
      "execution_count": 33,
      "outputs": []
    },
    {
      "cell_type": "code",
      "source": [
        "df1.columns"
      ],
      "metadata": {
        "colab": {
          "base_uri": "https://localhost:8080/"
        },
        "id": "Rh_vKPC8--6-",
        "outputId": "4b9f72b1-a269-43a3-a490-f387d4b04911"
      },
      "execution_count": 34,
      "outputs": [
        {
          "output_type": "execute_result",
          "data": {
            "text/plain": [
              "Index(['invoice_no', 'stock_code', 'description', 'quantity', 'invoice_date',\n",
              "       'unit_price', 'customer_id', 'country'],\n",
              "      dtype='object')"
            ]
          },
          "metadata": {},
          "execution_count": 34
        }
      ]
    },
    {
      "cell_type": "markdown",
      "source": [
        "## 1.2 DATA DIMENSION"
      ],
      "metadata": {
        "id": "rnUW3lFK3cmO"
      }
    },
    {
      "cell_type": "code",
      "source": [
        "print('Number of rows: {}'.format(df1.shape[0]))\n",
        "print('Number of columns: {}'.format(df1.shape[1]))"
      ],
      "metadata": {
        "colab": {
          "base_uri": "https://localhost:8080/"
        },
        "id": "XVqoOxwU6jfF",
        "outputId": "2b9920bc-6ed0-44a9-aa32-d17751407f44"
      },
      "execution_count": 35,
      "outputs": [
        {
          "output_type": "stream",
          "name": "stdout",
          "text": [
            "Number of rows: 541909\n",
            "Number of columns: 8\n"
          ]
        }
      ]
    },
    {
      "cell_type": "markdown",
      "source": [
        "## 1.3 DATA TYPES"
      ],
      "metadata": {
        "id": "BmZksL293gK6"
      }
    },
    {
      "cell_type": "code",
      "source": [
        "df1.dtypes"
      ],
      "metadata": {
        "colab": {
          "base_uri": "https://localhost:8080/",
          "height": 0
        },
        "id": "2Xtl2MG460ah",
        "outputId": "44ba4b2f-b03a-4dbd-fbee-2d76e07bcd3a"
      },
      "execution_count": 36,
      "outputs": [
        {
          "output_type": "execute_result",
          "data": {
            "text/plain": [
              "invoice_no       object\n",
              "stock_code       object\n",
              "description      object\n",
              "quantity          int64\n",
              "invoice_date     object\n",
              "unit_price      float64\n",
              "customer_id     float64\n",
              "country          object\n",
              "dtype: object"
            ],
            "text/html": [
              "<div>\n",
              "<style scoped>\n",
              "    .dataframe tbody tr th:only-of-type {\n",
              "        vertical-align: middle;\n",
              "    }\n",
              "\n",
              "    .dataframe tbody tr th {\n",
              "        vertical-align: top;\n",
              "    }\n",
              "\n",
              "    .dataframe thead th {\n",
              "        text-align: right;\n",
              "    }\n",
              "</style>\n",
              "<table border=\"1\" class=\"dataframe\">\n",
              "  <thead>\n",
              "    <tr style=\"text-align: right;\">\n",
              "      <th></th>\n",
              "      <th>0</th>\n",
              "    </tr>\n",
              "  </thead>\n",
              "  <tbody>\n",
              "    <tr>\n",
              "      <th>invoice_no</th>\n",
              "      <td>object</td>\n",
              "    </tr>\n",
              "    <tr>\n",
              "      <th>stock_code</th>\n",
              "      <td>object</td>\n",
              "    </tr>\n",
              "    <tr>\n",
              "      <th>description</th>\n",
              "      <td>object</td>\n",
              "    </tr>\n",
              "    <tr>\n",
              "      <th>quantity</th>\n",
              "      <td>int64</td>\n",
              "    </tr>\n",
              "    <tr>\n",
              "      <th>invoice_date</th>\n",
              "      <td>object</td>\n",
              "    </tr>\n",
              "    <tr>\n",
              "      <th>unit_price</th>\n",
              "      <td>float64</td>\n",
              "    </tr>\n",
              "    <tr>\n",
              "      <th>customer_id</th>\n",
              "      <td>float64</td>\n",
              "    </tr>\n",
              "    <tr>\n",
              "      <th>country</th>\n",
              "      <td>object</td>\n",
              "    </tr>\n",
              "  </tbody>\n",
              "</table>\n",
              "</div><br><label><b>dtype:</b> object</label>"
            ]
          },
          "metadata": {},
          "execution_count": 36
        }
      ]
    },
    {
      "cell_type": "code",
      "source": [],
      "metadata": {
        "id": "d_9AVZze9HzW"
      },
      "execution_count": 36,
      "outputs": []
    },
    {
      "cell_type": "markdown",
      "source": [
        "## 1.4 CHECK NA'S"
      ],
      "metadata": {
        "id": "i32uxXlY3gfI"
      }
    },
    {
      "cell_type": "code",
      "source": [
        "df1.isna().sum()"
      ],
      "metadata": {
        "colab": {
          "base_uri": "https://localhost:8080/",
          "height": 0
        },
        "id": "ixAK66rG9Oyo",
        "outputId": "b146987b-65d6-4c4a-ac87-2d95b1e8ae84"
      },
      "execution_count": 37,
      "outputs": [
        {
          "output_type": "execute_result",
          "data": {
            "text/plain": [
              "invoice_no           0\n",
              "stock_code           0\n",
              "description       1454\n",
              "quantity             0\n",
              "invoice_date         0\n",
              "unit_price           0\n",
              "customer_id     135080\n",
              "country              0\n",
              "dtype: int64"
            ],
            "text/html": [
              "<div>\n",
              "<style scoped>\n",
              "    .dataframe tbody tr th:only-of-type {\n",
              "        vertical-align: middle;\n",
              "    }\n",
              "\n",
              "    .dataframe tbody tr th {\n",
              "        vertical-align: top;\n",
              "    }\n",
              "\n",
              "    .dataframe thead th {\n",
              "        text-align: right;\n",
              "    }\n",
              "</style>\n",
              "<table border=\"1\" class=\"dataframe\">\n",
              "  <thead>\n",
              "    <tr style=\"text-align: right;\">\n",
              "      <th></th>\n",
              "      <th>0</th>\n",
              "    </tr>\n",
              "  </thead>\n",
              "  <tbody>\n",
              "    <tr>\n",
              "      <th>invoice_no</th>\n",
              "      <td>0</td>\n",
              "    </tr>\n",
              "    <tr>\n",
              "      <th>stock_code</th>\n",
              "      <td>0</td>\n",
              "    </tr>\n",
              "    <tr>\n",
              "      <th>description</th>\n",
              "      <td>1454</td>\n",
              "    </tr>\n",
              "    <tr>\n",
              "      <th>quantity</th>\n",
              "      <td>0</td>\n",
              "    </tr>\n",
              "    <tr>\n",
              "      <th>invoice_date</th>\n",
              "      <td>0</td>\n",
              "    </tr>\n",
              "    <tr>\n",
              "      <th>unit_price</th>\n",
              "      <td>0</td>\n",
              "    </tr>\n",
              "    <tr>\n",
              "      <th>customer_id</th>\n",
              "      <td>135080</td>\n",
              "    </tr>\n",
              "    <tr>\n",
              "      <th>country</th>\n",
              "      <td>0</td>\n",
              "    </tr>\n",
              "  </tbody>\n",
              "</table>\n",
              "</div><br><label><b>dtype:</b> int64</label>"
            ]
          },
          "metadata": {},
          "execution_count": 37
        }
      ]
    },
    {
      "cell_type": "markdown",
      "source": [
        "## 1.5 FILLOUT NA'S"
      ],
      "metadata": {
        "id": "vy9u_daD3xqg"
      }
    },
    {
      "cell_type": "code",
      "source": [
        "# remove nas\n",
        "df1 = df1.dropna(subset=['description', 'customer_id'])\n",
        "print('Removed data: {:2f}'.format(1 - (df1.shape[0] / df_raw.shape[0])))"
      ],
      "metadata": {
        "colab": {
          "base_uri": "https://localhost:8080/"
        },
        "id": "EZoc79dW9paD",
        "outputId": "e34b8a96-4879-4211-b45c-7768bccaad5e"
      },
      "execution_count": 38,
      "outputs": [
        {
          "output_type": "stream",
          "name": "stdout",
          "text": [
            "Removed data: 0.249267\n"
          ]
        }
      ]
    },
    {
      "cell_type": "code",
      "source": [
        "df1.isna().sum()"
      ],
      "metadata": {
        "colab": {
          "base_uri": "https://localhost:8080/",
          "height": 0
        },
        "id": "Lk7GCBd2_X2i",
        "outputId": "36b7a253-7180-4992-9675-ebafe1618142"
      },
      "execution_count": 39,
      "outputs": [
        {
          "output_type": "execute_result",
          "data": {
            "text/plain": [
              "invoice_no      0\n",
              "stock_code      0\n",
              "description     0\n",
              "quantity        0\n",
              "invoice_date    0\n",
              "unit_price      0\n",
              "customer_id     0\n",
              "country         0\n",
              "dtype: int64"
            ],
            "text/html": [
              "<div>\n",
              "<style scoped>\n",
              "    .dataframe tbody tr th:only-of-type {\n",
              "        vertical-align: middle;\n",
              "    }\n",
              "\n",
              "    .dataframe tbody tr th {\n",
              "        vertical-align: top;\n",
              "    }\n",
              "\n",
              "    .dataframe thead th {\n",
              "        text-align: right;\n",
              "    }\n",
              "</style>\n",
              "<table border=\"1\" class=\"dataframe\">\n",
              "  <thead>\n",
              "    <tr style=\"text-align: right;\">\n",
              "      <th></th>\n",
              "      <th>0</th>\n",
              "    </tr>\n",
              "  </thead>\n",
              "  <tbody>\n",
              "    <tr>\n",
              "      <th>invoice_no</th>\n",
              "      <td>0</td>\n",
              "    </tr>\n",
              "    <tr>\n",
              "      <th>stock_code</th>\n",
              "      <td>0</td>\n",
              "    </tr>\n",
              "    <tr>\n",
              "      <th>description</th>\n",
              "      <td>0</td>\n",
              "    </tr>\n",
              "    <tr>\n",
              "      <th>quantity</th>\n",
              "      <td>0</td>\n",
              "    </tr>\n",
              "    <tr>\n",
              "      <th>invoice_date</th>\n",
              "      <td>0</td>\n",
              "    </tr>\n",
              "    <tr>\n",
              "      <th>unit_price</th>\n",
              "      <td>0</td>\n",
              "    </tr>\n",
              "    <tr>\n",
              "      <th>customer_id</th>\n",
              "      <td>0</td>\n",
              "    </tr>\n",
              "    <tr>\n",
              "      <th>country</th>\n",
              "      <td>0</td>\n",
              "    </tr>\n",
              "  </tbody>\n",
              "</table>\n",
              "</div><br><label><b>dtype:</b> int64</label>"
            ]
          },
          "metadata": {},
          "execution_count": 39
        }
      ]
    },
    {
      "cell_type": "markdown",
      "source": [
        "## 1.6 CHANGE TYPES"
      ],
      "metadata": {
        "id": "GixGPSyb312f"
      }
    },
    {
      "cell_type": "code",
      "source": [
        "df1.dtypes"
      ],
      "metadata": {
        "colab": {
          "base_uri": "https://localhost:8080/",
          "height": 0
        },
        "id": "mcb60mts_7FV",
        "outputId": "3ce8d94e-6678-41ba-aace-348cc9e7342a"
      },
      "execution_count": 40,
      "outputs": [
        {
          "output_type": "execute_result",
          "data": {
            "text/plain": [
              "invoice_no       object\n",
              "stock_code       object\n",
              "description      object\n",
              "quantity          int64\n",
              "invoice_date     object\n",
              "unit_price      float64\n",
              "customer_id     float64\n",
              "country          object\n",
              "dtype: object"
            ],
            "text/html": [
              "<div>\n",
              "<style scoped>\n",
              "    .dataframe tbody tr th:only-of-type {\n",
              "        vertical-align: middle;\n",
              "    }\n",
              "\n",
              "    .dataframe tbody tr th {\n",
              "        vertical-align: top;\n",
              "    }\n",
              "\n",
              "    .dataframe thead th {\n",
              "        text-align: right;\n",
              "    }\n",
              "</style>\n",
              "<table border=\"1\" class=\"dataframe\">\n",
              "  <thead>\n",
              "    <tr style=\"text-align: right;\">\n",
              "      <th></th>\n",
              "      <th>0</th>\n",
              "    </tr>\n",
              "  </thead>\n",
              "  <tbody>\n",
              "    <tr>\n",
              "      <th>invoice_no</th>\n",
              "      <td>object</td>\n",
              "    </tr>\n",
              "    <tr>\n",
              "      <th>stock_code</th>\n",
              "      <td>object</td>\n",
              "    </tr>\n",
              "    <tr>\n",
              "      <th>description</th>\n",
              "      <td>object</td>\n",
              "    </tr>\n",
              "    <tr>\n",
              "      <th>quantity</th>\n",
              "      <td>int64</td>\n",
              "    </tr>\n",
              "    <tr>\n",
              "      <th>invoice_date</th>\n",
              "      <td>object</td>\n",
              "    </tr>\n",
              "    <tr>\n",
              "      <th>unit_price</th>\n",
              "      <td>float64</td>\n",
              "    </tr>\n",
              "    <tr>\n",
              "      <th>customer_id</th>\n",
              "      <td>float64</td>\n",
              "    </tr>\n",
              "    <tr>\n",
              "      <th>country</th>\n",
              "      <td>object</td>\n",
              "    </tr>\n",
              "  </tbody>\n",
              "</table>\n",
              "</div><br><label><b>dtype:</b> object</label>"
            ]
          },
          "metadata": {},
          "execution_count": 40
        }
      ]
    },
    {
      "cell_type": "code",
      "source": [
        "# invoice data\n",
        "df1['invoice_date'] = pd.to_datetime(df1['invoice_date'], format='%d-%b-%y')\n",
        "\n",
        "# customer id\n",
        "df1['customer_id'] = df1['customer_id'].astype(int)"
      ],
      "metadata": {
        "id": "iC7k1pcn_agy"
      },
      "execution_count": 41,
      "outputs": []
    },
    {
      "cell_type": "markdown",
      "source": [
        "## 1.7 DESCRIPTIVE STATISTICS"
      ],
      "metadata": {
        "id": "SE02iBCE39I8"
      }
    },
    {
      "cell_type": "markdown",
      "source": [
        "# 2.0 FEATURE ENGINEERING"
      ],
      "metadata": {
        "id": "dQ1535J8yQfO"
      }
    },
    {
      "cell_type": "code",
      "source": [
        "df2 = df1.copy()"
      ],
      "metadata": {
        "id": "Dbs09vraADnq"
      },
      "execution_count": 42,
      "outputs": []
    },
    {
      "cell_type": "markdown",
      "source": [
        "## 2.1 FEATURE CREATION"
      ],
      "metadata": {
        "id": "Gms_2G5AAIG6"
      }
    },
    {
      "cell_type": "code",
      "source": [
        "df2.columns"
      ],
      "metadata": {
        "colab": {
          "base_uri": "https://localhost:8080/"
        },
        "id": "236lqyexAxCj",
        "outputId": "0c88a309-1456-43a2-c451-633f128641b1"
      },
      "execution_count": 43,
      "outputs": [
        {
          "output_type": "execute_result",
          "data": {
            "text/plain": [
              "Index(['invoice_no', 'stock_code', 'description', 'quantity', 'invoice_date',\n",
              "       'unit_price', 'customer_id', 'country'],\n",
              "      dtype='object')"
            ]
          },
          "metadata": {},
          "execution_count": 43
        }
      ]
    },
    {
      "cell_type": "code",
      "source": [
        "# data reference\n",
        "df2_ref = df2.drop(['invoice_no', 'stock_code', 'description', 'quantity',\n",
        "                    'invoice_date', 'unit_price', 'country'], axis=1).drop_duplicates(ignore_index=True)\n",
        "\n",
        "# gross revenue\n",
        "df2['gross_revenue'] = df2['quantity'] * df2['unit_price']\n",
        "\n",
        "# monetary\n",
        "df_monetary = df2[['customer_id', 'gross_revenue']].groupby('customer_id').sum().reset_index()\n",
        "df2_ref = pd.merge(df2_ref, df_monetary, on='customer_id', how='left')\n",
        "\n",
        "# recency - last day purchase\n",
        "df_recency = df2[['customer_id', 'invoice_date']].groupby('customer_id').max().reset_index()\n",
        "df_recency['recency_days'] = (df2['invoice_date'].max() - df_recency['invoice_date']).dt.days\n",
        "df_recency = df_recency[['customer_id', 'recency_days']].copy()\n",
        "df2_ref = pd.merge(df2_ref, df_recency, on='customer_id', how='left')\n",
        "\n",
        "# frequency\n",
        "df_freq = df2[['customer_id', 'invoice_no']].drop_duplicates().groupby('customer_id').count().reset_index()\n",
        "df2_ref = pd.merge(df2_ref, df_freq, on='customer_id', how='left')\n"
      ],
      "metadata": {
        "id": "EBHcLR_rALhs"
      },
      "execution_count": 44,
      "outputs": []
    },
    {
      "cell_type": "code",
      "source": [
        "df2_ref.head()"
      ],
      "metadata": {
        "colab": {
          "base_uri": "https://localhost:8080/",
          "height": 206
        },
        "id": "KmHwdhXkFci9",
        "outputId": "9a7f692d-6cb3-46c9-cf3c-ce2e0c798fcd"
      },
      "execution_count": 45,
      "outputs": [
        {
          "output_type": "execute_result",
          "data": {
            "text/plain": [
              "   customer_id  gross_revenue  recency_days  invoice_no\n",
              "0        17850        5288.63           302          35\n",
              "1        13047        3079.10            31          18\n",
              "2        12583        7187.34             2          18\n",
              "3        13748         948.25            95           5\n",
              "4        15100         635.10           330           6"
            ],
            "text/html": [
              "\n",
              "  <div id=\"df-f5176b80-1b46-4dcd-bfe7-249ba289cbcc\" class=\"colab-df-container\">\n",
              "    <div>\n",
              "<style scoped>\n",
              "    .dataframe tbody tr th:only-of-type {\n",
              "        vertical-align: middle;\n",
              "    }\n",
              "\n",
              "    .dataframe tbody tr th {\n",
              "        vertical-align: top;\n",
              "    }\n",
              "\n",
              "    .dataframe thead th {\n",
              "        text-align: right;\n",
              "    }\n",
              "</style>\n",
              "<table border=\"1\" class=\"dataframe\">\n",
              "  <thead>\n",
              "    <tr style=\"text-align: right;\">\n",
              "      <th></th>\n",
              "      <th>customer_id</th>\n",
              "      <th>gross_revenue</th>\n",
              "      <th>recency_days</th>\n",
              "      <th>invoice_no</th>\n",
              "    </tr>\n",
              "  </thead>\n",
              "  <tbody>\n",
              "    <tr>\n",
              "      <th>0</th>\n",
              "      <td>17850</td>\n",
              "      <td>5288.63</td>\n",
              "      <td>302</td>\n",
              "      <td>35</td>\n",
              "    </tr>\n",
              "    <tr>\n",
              "      <th>1</th>\n",
              "      <td>13047</td>\n",
              "      <td>3079.10</td>\n",
              "      <td>31</td>\n",
              "      <td>18</td>\n",
              "    </tr>\n",
              "    <tr>\n",
              "      <th>2</th>\n",
              "      <td>12583</td>\n",
              "      <td>7187.34</td>\n",
              "      <td>2</td>\n",
              "      <td>18</td>\n",
              "    </tr>\n",
              "    <tr>\n",
              "      <th>3</th>\n",
              "      <td>13748</td>\n",
              "      <td>948.25</td>\n",
              "      <td>95</td>\n",
              "      <td>5</td>\n",
              "    </tr>\n",
              "    <tr>\n",
              "      <th>4</th>\n",
              "      <td>15100</td>\n",
              "      <td>635.10</td>\n",
              "      <td>330</td>\n",
              "      <td>6</td>\n",
              "    </tr>\n",
              "  </tbody>\n",
              "</table>\n",
              "</div>\n",
              "    <div class=\"colab-df-buttons\">\n",
              "\n",
              "  <div class=\"colab-df-container\">\n",
              "    <button class=\"colab-df-convert\" onclick=\"convertToInteractive('df-f5176b80-1b46-4dcd-bfe7-249ba289cbcc')\"\n",
              "            title=\"Convert this dataframe to an interactive table.\"\n",
              "            style=\"display:none;\">\n",
              "\n",
              "  <svg xmlns=\"http://www.w3.org/2000/svg\" height=\"24px\" viewBox=\"0 -960 960 960\">\n",
              "    <path d=\"M120-120v-720h720v720H120Zm60-500h600v-160H180v160Zm220 220h160v-160H400v160Zm0 220h160v-160H400v160ZM180-400h160v-160H180v160Zm440 0h160v-160H620v160ZM180-180h160v-160H180v160Zm440 0h160v-160H620v160Z\"/>\n",
              "  </svg>\n",
              "    </button>\n",
              "\n",
              "  <style>\n",
              "    .colab-df-container {\n",
              "      display:flex;\n",
              "      gap: 12px;\n",
              "    }\n",
              "\n",
              "    .colab-df-convert {\n",
              "      background-color: #E8F0FE;\n",
              "      border: none;\n",
              "      border-radius: 50%;\n",
              "      cursor: pointer;\n",
              "      display: none;\n",
              "      fill: #1967D2;\n",
              "      height: 32px;\n",
              "      padding: 0 0 0 0;\n",
              "      width: 32px;\n",
              "    }\n",
              "\n",
              "    .colab-df-convert:hover {\n",
              "      background-color: #E2EBFA;\n",
              "      box-shadow: 0px 1px 2px rgba(60, 64, 67, 0.3), 0px 1px 3px 1px rgba(60, 64, 67, 0.15);\n",
              "      fill: #174EA6;\n",
              "    }\n",
              "\n",
              "    .colab-df-buttons div {\n",
              "      margin-bottom: 4px;\n",
              "    }\n",
              "\n",
              "    [theme=dark] .colab-df-convert {\n",
              "      background-color: #3B4455;\n",
              "      fill: #D2E3FC;\n",
              "    }\n",
              "\n",
              "    [theme=dark] .colab-df-convert:hover {\n",
              "      background-color: #434B5C;\n",
              "      box-shadow: 0px 1px 3px 1px rgba(0, 0, 0, 0.15);\n",
              "      filter: drop-shadow(0px 1px 2px rgba(0, 0, 0, 0.3));\n",
              "      fill: #FFFFFF;\n",
              "    }\n",
              "  </style>\n",
              "\n",
              "    <script>\n",
              "      const buttonEl =\n",
              "        document.querySelector('#df-f5176b80-1b46-4dcd-bfe7-249ba289cbcc button.colab-df-convert');\n",
              "      buttonEl.style.display =\n",
              "        google.colab.kernel.accessAllowed ? 'block' : 'none';\n",
              "\n",
              "      async function convertToInteractive(key) {\n",
              "        const element = document.querySelector('#df-f5176b80-1b46-4dcd-bfe7-249ba289cbcc');\n",
              "        const dataTable =\n",
              "          await google.colab.kernel.invokeFunction('convertToInteractive',\n",
              "                                                    [key], {});\n",
              "        if (!dataTable) return;\n",
              "\n",
              "        const docLinkHtml = 'Like what you see? Visit the ' +\n",
              "          '<a target=\"_blank\" href=https://colab.research.google.com/notebooks/data_table.ipynb>data table notebook</a>'\n",
              "          + ' to learn more about interactive tables.';\n",
              "        element.innerHTML = '';\n",
              "        dataTable['output_type'] = 'display_data';\n",
              "        await google.colab.output.renderOutput(dataTable, element);\n",
              "        const docLink = document.createElement('div');\n",
              "        docLink.innerHTML = docLinkHtml;\n",
              "        element.appendChild(docLink);\n",
              "      }\n",
              "    </script>\n",
              "  </div>\n",
              "\n",
              "\n",
              "    <div id=\"df-373a1afb-c3e3-429d-a5bb-1afbd1a8072c\">\n",
              "      <button class=\"colab-df-quickchart\" onclick=\"quickchart('df-373a1afb-c3e3-429d-a5bb-1afbd1a8072c')\"\n",
              "                title=\"Suggest charts\"\n",
              "                style=\"display:none;\">\n",
              "\n",
              "<svg xmlns=\"http://www.w3.org/2000/svg\" height=\"24px\"viewBox=\"0 0 24 24\"\n",
              "     width=\"24px\">\n",
              "    <g>\n",
              "        <path d=\"M19 3H5c-1.1 0-2 .9-2 2v14c0 1.1.9 2 2 2h14c1.1 0 2-.9 2-2V5c0-1.1-.9-2-2-2zM9 17H7v-7h2v7zm4 0h-2V7h2v10zm4 0h-2v-4h2v4z\"/>\n",
              "    </g>\n",
              "</svg>\n",
              "      </button>\n",
              "\n",
              "<style>\n",
              "  .colab-df-quickchart {\n",
              "      --bg-color: #E8F0FE;\n",
              "      --fill-color: #1967D2;\n",
              "      --hover-bg-color: #E2EBFA;\n",
              "      --hover-fill-color: #174EA6;\n",
              "      --disabled-fill-color: #AAA;\n",
              "      --disabled-bg-color: #DDD;\n",
              "  }\n",
              "\n",
              "  [theme=dark] .colab-df-quickchart {\n",
              "      --bg-color: #3B4455;\n",
              "      --fill-color: #D2E3FC;\n",
              "      --hover-bg-color: #434B5C;\n",
              "      --hover-fill-color: #FFFFFF;\n",
              "      --disabled-bg-color: #3B4455;\n",
              "      --disabled-fill-color: #666;\n",
              "  }\n",
              "\n",
              "  .colab-df-quickchart {\n",
              "    background-color: var(--bg-color);\n",
              "    border: none;\n",
              "    border-radius: 50%;\n",
              "    cursor: pointer;\n",
              "    display: none;\n",
              "    fill: var(--fill-color);\n",
              "    height: 32px;\n",
              "    padding: 0;\n",
              "    width: 32px;\n",
              "  }\n",
              "\n",
              "  .colab-df-quickchart:hover {\n",
              "    background-color: var(--hover-bg-color);\n",
              "    box-shadow: 0 1px 2px rgba(60, 64, 67, 0.3), 0 1px 3px 1px rgba(60, 64, 67, 0.15);\n",
              "    fill: var(--button-hover-fill-color);\n",
              "  }\n",
              "\n",
              "  .colab-df-quickchart-complete:disabled,\n",
              "  .colab-df-quickchart-complete:disabled:hover {\n",
              "    background-color: var(--disabled-bg-color);\n",
              "    fill: var(--disabled-fill-color);\n",
              "    box-shadow: none;\n",
              "  }\n",
              "\n",
              "  .colab-df-spinner {\n",
              "    border: 2px solid var(--fill-color);\n",
              "    border-color: transparent;\n",
              "    border-bottom-color: var(--fill-color);\n",
              "    animation:\n",
              "      spin 1s steps(1) infinite;\n",
              "  }\n",
              "\n",
              "  @keyframes spin {\n",
              "    0% {\n",
              "      border-color: transparent;\n",
              "      border-bottom-color: var(--fill-color);\n",
              "      border-left-color: var(--fill-color);\n",
              "    }\n",
              "    20% {\n",
              "      border-color: transparent;\n",
              "      border-left-color: var(--fill-color);\n",
              "      border-top-color: var(--fill-color);\n",
              "    }\n",
              "    30% {\n",
              "      border-color: transparent;\n",
              "      border-left-color: var(--fill-color);\n",
              "      border-top-color: var(--fill-color);\n",
              "      border-right-color: var(--fill-color);\n",
              "    }\n",
              "    40% {\n",
              "      border-color: transparent;\n",
              "      border-right-color: var(--fill-color);\n",
              "      border-top-color: var(--fill-color);\n",
              "    }\n",
              "    60% {\n",
              "      border-color: transparent;\n",
              "      border-right-color: var(--fill-color);\n",
              "    }\n",
              "    80% {\n",
              "      border-color: transparent;\n",
              "      border-right-color: var(--fill-color);\n",
              "      border-bottom-color: var(--fill-color);\n",
              "    }\n",
              "    90% {\n",
              "      border-color: transparent;\n",
              "      border-bottom-color: var(--fill-color);\n",
              "    }\n",
              "  }\n",
              "</style>\n",
              "\n",
              "      <script>\n",
              "        async function quickchart(key) {\n",
              "          const quickchartButtonEl =\n",
              "            document.querySelector('#' + key + ' button');\n",
              "          quickchartButtonEl.disabled = true;  // To prevent multiple clicks.\n",
              "          quickchartButtonEl.classList.add('colab-df-spinner');\n",
              "          try {\n",
              "            const charts = await google.colab.kernel.invokeFunction(\n",
              "                'suggestCharts', [key], {});\n",
              "          } catch (error) {\n",
              "            console.error('Error during call to suggestCharts:', error);\n",
              "          }\n",
              "          quickchartButtonEl.classList.remove('colab-df-spinner');\n",
              "          quickchartButtonEl.classList.add('colab-df-quickchart-complete');\n",
              "        }\n",
              "        (() => {\n",
              "          let quickchartButtonEl =\n",
              "            document.querySelector('#df-373a1afb-c3e3-429d-a5bb-1afbd1a8072c button');\n",
              "          quickchartButtonEl.style.display =\n",
              "            google.colab.kernel.accessAllowed ? 'block' : 'none';\n",
              "        })();\n",
              "      </script>\n",
              "    </div>\n",
              "\n",
              "    </div>\n",
              "  </div>\n"
            ],
            "application/vnd.google.colaboratory.intrinsic+json": {
              "type": "dataframe",
              "variable_name": "df2_ref",
              "summary": "{\n  \"name\": \"df2_ref\",\n  \"rows\": 4372,\n  \"fields\": [\n    {\n      \"column\": \"customer_id\",\n      \"properties\": {\n        \"dtype\": \"number\",\n        \"std\": 1722,\n        \"min\": 12346,\n        \"max\": 18287,\n        \"num_unique_values\": 4372,\n        \"samples\": [\n          14633,\n          13050,\n          17975\n        ],\n        \"semantic_type\": \"\",\n        \"description\": \"\"\n      }\n    },\n    {\n      \"column\": \"gross_revenue\",\n      \"properties\": {\n        \"dtype\": \"number\",\n        \"std\": 8219.345141066564,\n        \"min\": -4287.63,\n        \"max\": 279489.02,\n        \"num_unique_values\": 4288,\n        \"samples\": [\n          1550.85,\n          2385.48,\n          281.85\n        ],\n        \"semantic_type\": \"\",\n        \"description\": \"\"\n      }\n    },\n    {\n      \"column\": \"recency_days\",\n      \"properties\": {\n        \"dtype\": \"number\",\n        \"std\": 100,\n        \"min\": 0,\n        \"max\": 373,\n        \"num_unique_values\": 304,\n        \"samples\": [\n          240,\n          326,\n          253\n        ],\n        \"semantic_type\": \"\",\n        \"description\": \"\"\n      }\n    },\n    {\n      \"column\": \"invoice_no\",\n      \"properties\": {\n        \"dtype\": \"number\",\n        \"std\": 9,\n        \"min\": 1,\n        \"max\": 248,\n        \"num_unique_values\": 65,\n        \"samples\": [\n          33,\n          45,\n          35\n        ],\n        \"semantic_type\": \"\",\n        \"description\": \"\"\n      }\n    }\n  ]\n}"
            }
          },
          "metadata": {},
          "execution_count": 45
        }
      ]
    },
    {
      "cell_type": "markdown",
      "source": [
        "# 3.0 FEATURE SELECTION"
      ],
      "metadata": {
        "id": "MLqECQS_yU4S"
      }
    },
    {
      "cell_type": "code",
      "source": [
        "df3 = df2_ref.copy()"
      ],
      "metadata": {
        "id": "papoDOq-K7oz"
      },
      "execution_count": 52,
      "outputs": []
    },
    {
      "cell_type": "markdown",
      "source": [
        "# 4.0 EXPLORATORY DATA ANALYSIS"
      ],
      "metadata": {
        "id": "PR9C5ftcyoKm"
      }
    },
    {
      "cell_type": "code",
      "source": [
        "df4 = df3.copy()"
      ],
      "metadata": {
        "id": "Jd4cL6csLA8Z"
      },
      "execution_count": 54,
      "outputs": []
    },
    {
      "cell_type": "markdown",
      "source": [
        "# 5.0 DATA PREPARATION"
      ],
      "metadata": {
        "id": "JZx3R-ORyua0"
      }
    },
    {
      "cell_type": "code",
      "source": [
        "df5 = df4.copy()"
      ],
      "metadata": {
        "id": "3mePHcv4LE70"
      },
      "execution_count": 55,
      "outputs": []
    },
    {
      "cell_type": "markdown",
      "source": [
        "# 6.0 FEATURE SELECTION"
      ],
      "metadata": {
        "id": "K7X05lNCyw_k"
      }
    },
    {
      "cell_type": "code",
      "source": [
        "df6 = df5.copy()"
      ],
      "metadata": {
        "id": "P241K2FLLIhs"
      },
      "execution_count": 56,
      "outputs": []
    },
    {
      "cell_type": "markdown",
      "source": [
        "# 7.0 HYPERPARAMETER FINE-TUNNING"
      ],
      "metadata": {
        "id": "R6oTLZW0zGke"
      }
    },
    {
      "cell_type": "code",
      "source": [
        "X = df6.drop(columns='customer_id')"
      ],
      "metadata": {
        "id": "gJNew0AoLNK8"
      },
      "execution_count": 62,
      "outputs": []
    },
    {
      "cell_type": "code",
      "source": [
        "cluster = [2, 3, 4, 5, 6]"
      ],
      "metadata": {
        "id": "0o6S1WN1N1QO"
      },
      "execution_count": 64,
      "outputs": []
    },
    {
      "cell_type": "markdown",
      "source": [
        "## 7.1 WITHIN-CLUSTER SUM OF SQUARE ( WSS )"
      ],
      "metadata": {
        "id": "g8w2UN6sNh_x"
      }
    },
    {
      "cell_type": "code",
      "source": [
        "wss = []\n",
        "for k in cluster:\n",
        "    # model definition\n",
        "    kmeans = KMeans(init='random', n_clusters=k, n_init=10, max_iter=300, random_state=42)\n",
        "\n",
        "    # model training\n",
        "    kmeans.fit(X)\n",
        "\n",
        "    # validation\n",
        "    wss.append(kmeans.inertia_)\n",
        "\n",
        "# plot wss - Elbow Methods\n",
        "plt.plot(cluster, wss, linestyle='--', marker='o', color='b')\n",
        "plt.xlabel('K');\n",
        "plt.ylabel('Within-Cluster Sum of Square');\n",
        "plt.title('WSS vs K');"
      ],
      "metadata": {
        "colab": {
          "base_uri": "https://localhost:8080/",
          "height": 472
        },
        "id": "MKhZ9qVEOFEI",
        "outputId": "b1dcfd95-6f5d-4434-e7c0-6edd28f3800b"
      },
      "execution_count": 69,
      "outputs": [
        {
          "output_type": "display_data",
          "data": {
            "text/plain": [
              "<Figure size 640x480 with 1 Axes>"
            ],
            "image/png": "[encoded data removed]"
          },
          "metadata": {}
        }
      ]
    },
    {
      "cell_type": "code",
      "source": [
        "kmeans = KElbowVisualizer(KMeans(), k=cluster, timings=False)\n",
        "kmeans.fit(X)\n",
        "kmeans.show()"
      ],
      "metadata": {
        "colab": {
          "base_uri": "https://localhost:8080/",
          "height": 541
        },
        "id": "v6bazavIRgr7",
        "outputId": "be77cf95-2932-473d-c3ab-2b0f71f5cdd9"
      },
      "execution_count": 71,
      "outputs": [
        {
          "output_type": "display_data",
          "data": {
            "text/plain": [
              "<Figure size 800x550 with 1 Axes>"
            ],
            "image/png": "[encoded data removed]"
          },
          "metadata": {}
        },
        {
          "output_type": "execute_result",
          "data": {
            "text/plain": [
              "<Axes: title={'center': 'Distortion Score Elbow for KMeans Clustering'}, xlabel='k', ylabel='distortion score'>"
            ]
          },
          "metadata": {},
          "execution_count": 71
        }
      ]
    },
    {
      "cell_type": "markdown",
      "source": [
        "## 7.2 SILLHOUETTE SCORE"
      ],
      "metadata": {
        "id": "l09KJxsMNvEw"
      }
    },
    {
      "cell_type": "code",
      "source": [
        "kmeans = KElbowVisualizer(KMeans(), k=cluster, metric='silhouette', timings=False)\n",
        "kmeans.fit(X)\n",
        "kmeans.show()"
      ],
      "metadata": {
        "colab": {
          "base_uri": "https://localhost:8080/",
          "height": 541
        },
        "id": "YdLWi9KgYDuo",
        "outputId": "ee85769d-919c-4564-b775-f1f4f99ff1b1"
      },
      "execution_count": 72,
      "outputs": [
        {
          "output_type": "display_data",
          "data": {
            "text/plain": [
              "<Figure size 800x550 with 1 Axes>"
            ],
            "image/png": "[encoded data removed]"
          },
          "metadata": {}
        },
        {
          "output_type": "execute_result",
          "data": {
            "text/plain": [
              "<Axes: title={'center': 'Silhouette Score Elbow for KMeans Clustering'}, xlabel='k', ylabel='silhouette score'>"
            ]
          },
          "metadata": {},
          "execution_count": 72
        }
      ]
    },
    {
      "cell_type": "markdown",
      "source": [
        "# 8.0 MODEL TRAINING"
      ],
      "metadata": {
        "id": "jsaAF7GMzNtZ"
      }
    },
    {
      "cell_type": "markdown",
      "source": [
        "# 9.0 CLUSTER ANALYSIS"
      ],
      "metadata": {
        "id": "JSst-9-wzR8O"
      }
    },
    {
      "cell_type": "markdown",
      "source": [
        "# 10.0 DEPLOY TO PRODUCTION"
      ],
      "metadata": {
        "id": "idIIuykxzWpR"
      }
    },
    {
      "cell_type": "code",
      "source": [],
      "metadata": {
        "id": "VCSVP1h1RurC"
      },
      "execution_count": 45,
      "outputs": []
    }
  ]
}