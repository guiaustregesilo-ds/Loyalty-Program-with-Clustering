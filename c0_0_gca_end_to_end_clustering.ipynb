{
  "nbformat": 4,
  "nbformat_minor": 0,
  "metadata": {
    "colab": {
      "provenance": [],
      "collapsed_sections": [
        "oIcTmWayXz8Q",
        "-w3UHBWnX3pM",
        "-uZCw9r1X5zW"
      ],
      "mount_file_id": "1Kqr-lkoDTcsSJEFCzg1S5Bt6oUIHi_Qx",
      "authorship_tag": "ABX9TyMvGlRYCMbLU0892bkzkvfa",
      "include_colab_link": true
    },
    "kernelspec": {
      "name": "python3",
      "display_name": "Python 3"
    },
    "language_info": {
      "name": "python"
    }
  },
  "cells": [
    {
      "cell_type": "markdown",
      "metadata": {
        "id": "view-in-github",
        "colab_type": "text"
      },
      "source": [
        "<a href=\"https://colab.research.google.com/github/guiaustregesilo-ds/Loyalty-Program-with-Clustering/blob/dev/c0_0_gca_end_to_end_clustering.ipynb\" target=\"_parent\"><img src=\"https://colab.research.google.com/assets/colab-badge.svg\" alt=\"Open In Colab\"/></a>"
      ]
    },
    {
      "cell_type": "markdown",
      "source": [
        "# **High Value Customer Identification**"
      ],
      "metadata": {
        "id": "nBU34NuyXcV2"
      }
    },
    {
      "cell_type": "markdown",
      "source": [
        "## 0.0 Planning"
      ],
      "metadata": {
        "id": "rJEjJ9MeXsIN"
      }
    },
    {
      "cell_type": "markdown",
      "source": [
        "### Input"
      ],
      "metadata": {
        "id": "oIcTmWayXz8Q"
      }
    },
    {
      "cell_type": "markdown",
      "source": [
        "**1 - Business Problem**:\n",
        "  - Selecting the most valuable customers to be included in a loyalty program.\n",
        "\n",
        "**2 - Dataset**\n",
        "  - Online e-commerce sales over a one-year period."
      ],
      "metadata": {
        "id": "yx82rMGVYAWk"
      }
    },
    {
      "cell_type": "markdown",
      "source": [
        "### Output"
      ],
      "metadata": {
        "id": "-w3UHBWnX3pM"
      }
    },
    {
      "cell_type": "markdown",
      "source": [
        "**1 -  Identifying the participants for the \"Royalty\" program.\"**\n",
        "  - Lista: client_id | id_royalty\n",
        "            1234     | yes/R\n",
        "            4567     | no/R\n",
        "\n",
        "**2 - Business Questions Report: Royalty Program**\n",
        "\n",
        "    - 1. Who are the people eligible to participate in the program?\"\n",
        "\n",
        "    - 2.  How many customers will be in the group?\n",
        "\n",
        "    - 3. What are the main characteristics of these customers?\n",
        "\n",
        "    - 4. What is the revenue contribution of the selected customers?\n",
        "\n",
        "    - 5. What is the expected revenue for this group in the coming months?\n",
        "\n",
        "    - 6. & 7. What are the conditions for a person to be eligible (or not)?\n",
        "\n",
        "    - 8. How can we prove the program is better than the rest of the base?\n",
        "\n",
        "    - 9. What actions can the marketing team take to increase revenue?"
      ],
      "metadata": {
        "id": "DizYb1ZaYwf6"
      }
    },
    {
      "cell_type": "markdown",
      "source": [
        "### Tasks"
      ],
      "metadata": {
        "id": "-uZCw9r1X5zW"
      }
    },
    {
      "cell_type": "markdown",
      "source": [
        "- **Who are the people eligible to participate in the \"Royalty\" program?**\n",
        "\n",
        "    - What does it mean to be eligible? What are \"high-value\" customers?\n",
        "\n",
        "    - Revenue ?\n",
        "        - High Average Order Value (AOV);\n",
        "        - High Lifetime Value (LTV);\n",
        "        - Low Recency;\n",
        "        - High Basket Size;\n",
        "        - Low Churn probability;\n",
        "        - High predicted LTV;\n",
        "        - High purchase propensity.\n",
        "\n",
        "    - Cost ?\n",
        "        - Low return rate;\n",
        "\n",
        "    - Shopping experience ?\n",
        "        - High average rating.\n",
        "\n",
        "- **2. How many customers will be part of the group?**\n",
        "    - Total number of customers;\n",
        "    - Percentage of the filtered group.\n",
        "\n",
        "- **3. What are the main characteristics of these customers?**\n",
        "    - List customer characteristics:\n",
        "        - Age;\n",
        "        - Location;\n",
        "    - Purchasing behavior characteristics:\n",
        "        - Clustering attributes.\n",
        "\n",
        "- **4. What is the revenue contribution percentage of the selected customers for \"Royalty\"**\n",
        "    -  Total annual revenue;\n",
        "    -  Total revenue of the \"Loyalty\" group.\n",
        "\n",
        "- **5. What is the expected revenue for this group in the coming months?**\n",
        "    -  LTV of the \"Loyalty\" group;\n",
        "    -  Cohort analysis.\n",
        "\n",
        "- **6. What are the conditions for a person to be eligible for \"Royalty\"**\n",
        "    -  Define the frequency {1 month, 3 months};\n",
        "    -  The person needs to be similar to those in the loyalty group.\n",
        "\n",
        "- **7. What are the conditions for a person not to be eligible for \"Royalty\":**\n",
        "    -  Define the frequency {1 month, 3 months};\n",
        "    -  The person needs to be dissimilar from those in the loyalty group.\n",
        "\n",
        "- **8. How can we prove the \"Royalty\" program is more effective than the rest of the customer base?**\n",
        "    -  A/B Testing;\n",
        "    -  Bayesian A/B Testing;\n",
        "    -  Hypothesis Testing.\n",
        "\n",
        "- **9. Quais ações o time de marketing pode realizar para aumentar o faturamento?**\n",
        "    -  Discount;\n",
        "    -  Exclusive access to products;\n",
        "    -  Free shipping or a shipping discount;\n",
        "    -  Company visit."
      ],
      "metadata": {
        "id": "MjGcZpcMb9eS"
      }
    },
    {
      "cell_type": "markdown",
      "source": [
        "## 1.0 Benchmark of Solutions"
      ],
      "metadata": {
        "id": "xjU-5Ipqlsrq"
      }
    },
    {
      "cell_type": "markdown",
      "source": [
        "# 0.0 IMPORTS"
      ],
      "metadata": {
        "id": "dBpglgOXR3il"
      }
    },
    {
      "cell_type": "code",
      "execution_count": 3,
      "metadata": {
        "id": "mcCx9wwyNFQA"
      },
      "outputs": [],
      "source": [
        "import pandas as pd\n",
        "import numpy  as np"
      ]
    },
    {
      "cell_type": "code",
      "source": [],
      "metadata": {
        "id": "VCSVP1h1RurC"
      },
      "execution_count": null,
      "outputs": []
    }
  ]
}